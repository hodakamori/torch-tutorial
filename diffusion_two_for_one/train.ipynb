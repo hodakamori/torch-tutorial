{
 "cells": [
  {
   "cell_type": "code",
   "execution_count": null,
   "metadata": {},
   "outputs": [],
   "source": [
    "!pip install graph-transformer-pytorch rdkit MDAnalysis"
   ]
  },
  {
   "cell_type": "code",
   "execution_count": null,
   "metadata": {},
   "outputs": [],
   "source": [
    "import torch\n",
    "import random\n",
    "from torch.utils.data import DataLoader, random_split\n",
    "\n",
    "from dataset import CGCoordsDataset\n",
    "from model import Net\n",
    "from utils import smiles2structure, get_gradients, add_diffusion_noise"
   ]
  },
  {
   "cell_type": "code",
   "execution_count": null,
   "metadata": {},
   "outputs": [],
   "source": [
    "device = torch.device(\"cuda\")\n",
    "topology_path = \"./ala2_cg.pdb\"\n",
    "traj_path = \"./ala2_cg.xtc\"\n",
    "dataset = CGCoordsDataset(topology_path, traj_path)\n",
    "print(len(dataset))\n",
    "\n",
    "MAX_EPOCHS = 5\n",
    "BATCH_SIZE = 64\n",
    "max_noise_level = 10"
   ]
  },
  {
   "cell_type": "code",
   "execution_count": null,
   "metadata": {},
   "outputs": [],
   "source": [
    "dataloader = DataLoader(dataset, batch_size=BATCH_SIZE, shuffle=True)\n",
    "bonds = dataset.bonds\n",
    "model = Net(num_atoms=5, num_node_features=64)\n",
    "model.to(device)\n",
    "optimizer = torch.optim.Adam(model.parameters())\n",
    "lr_scheduler = torch.optim.lr_scheduler.OneCycleLR(\n",
    "    optimizer, max_lr=0.001, total_steps=100000\n",
    ")\n",
    "loss_func = torch.nn.MSELoss(reduction=\"none\")\n",
    "\n",
    "for epoch in range(MAX_EPOCHS):\n",
    "    history = []\n",
    "    for indices, coords in dataloader:\n",
    "        coords.requires_grad_()\n",
    "        noise_level = random.randint(1, max_noise_level + 1)\n",
    "        noised_coordinates = add_diffusion_noise(coords, noise_level=noise_level)\n",
    "        noise_true = noised_coordinates - coords\n",
    "        energy = model(indices, coords, bonds, noise_level=noise_level)\n",
    "        if coords.grad is not None:\n",
    "            coords.grad.zero_()\n",
    "        energy.backward(retain_graph=True)\n",
    "        noise_pred = coords.grad\n",
    "        loss = loss_func(noise_true, noise_pred).mean()\n",
    "        optimizer.zero_grad()\n",
    "        loss.backward()\n",
    "        optimizer.step()\n",
    "        lr_scheduler.step()\n",
    "        history.append(loss.detach().numpy())\n",
    "    print(epoch, sum(history) / len(history))"
   ]
  }
 ],
 "metadata": {
  "language_info": {
   "name": "python"
  }
 },
 "nbformat": 4,
 "nbformat_minor": 2
}
